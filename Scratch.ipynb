{
 "cells": [
  {
   "cell_type": "markdown",
   "id": "e254f319-41b7-4fc0-926e-9b0e84fc5310",
   "metadata": {},
   "source": [
    "# 3. Problem 1: Scratching train_test_split"
   ]
  },
  {
   "cell_type": "code",
   "execution_count": 1,
   "id": "d9e8beae-8e35-45f7-af3b-ddcc59df0b04",
   "metadata": {},
   "outputs": [],
   "source": [
    "def scratch_train_test_split(X,y,train_size=0.8,random_state=0):\n",
    "    \n",
    "    np.random.seed(random_state)\n",
    "    y = y.reshape(-1,1)\n",
    "    Xy = np.concatenate([X,y],axis=1)\n",
    "    size = len(Xy)\n",
    "    pick = int(np.round(size*train_size))\n",
    "    train_pick = np.random.choice(np.arange(size),pick,replace=False)\n",
    "    test_pick = np.delete(np.arange(size),train_pick)\n",
    "    train = Xy[train_pick,:]\n",
    "    test = Xy[test_pick,:]\n",
    "    X_train = train[:,0:(Xy.shape[1]-y.shape[1])].reshape(-1,X.shape[1])\n",
    "    y_train = train[:,-y.shape[1]].reshape(-1,)\n",
    "    X_test = test[:,0:(Xy.shape[1]-y.shape[1])].reshape(-1,X.shape[1])\n",
    "    y_test = test[:,-y.shape[1]].reshape(-1,)\n",
    "    \n",
    "    return X_train, X_test, y_train, y_test"
   ]
  },
  {
   "cell_type": "code",
   "execution_count": 2,
   "id": "bfde99ba-9093-4d1c-bf58-125c378b4833",
   "metadata": {},
   "outputs": [],
   "source": [
    "import numpy as np\n",
    "from sklearn.datasets import load_iris\n",
    "\n",
    "data = load_iris()\n",
    "X = data.data\n",
    "y = data.target\n"
   ]
  },
  {
   "cell_type": "code",
   "execution_count": 3,
   "id": "d1ad46ba-392a-41ba-a1ce-0d74bb03b6f3",
   "metadata": {},
   "outputs": [
    {
     "name": "stdout",
     "output_type": "stream",
     "text": [
      "X (150, 4)\n",
      "y (150,)\n",
      "X_train (120, 4)\n",
      "X_test (30, 4)\n",
      "y_train (120,)\n",
      "y_test (30,)\n"
     ]
    }
   ],
   "source": [
    "X_train, X_test, y_train, y_test = scratch_train_test_split(X, y)\n",
    "print(f'X', X.shape)\n",
    "print(f'y', y.shape)\n",
    "print(f'X_train', X_train.shape)\n",
    "print(f'X_test', X_test.shape)\n",
    "print(f'y_train', y_train.shape)\n",
    "print(f'y_test', y_test.shape)"
   ]
  },
  {
   "cell_type": "code",
   "execution_count": 4,
   "id": "5998d607-44bf-4d73-9c0f-23320e027c4e",
   "metadata": {},
   "outputs": [],
   "source": [
    "from sklearn.metrics import accuracy_score\n",
    "from sklearn.metrics import precision_score\n",
    "from sklearn.metrics import recall_score\n",
    "from sklearn.metrics import f1_score"
   ]
  },
  {
   "cell_type": "code",
   "execution_count": 5,
   "id": "a869cd1a-f862-4185-9ca5-5d80fc28fc80",
   "metadata": {},
   "outputs": [],
   "source": [
    "from sklearn.linear_model import SGDClassifier\n",
    "clf = SGDClassifier(loss=\"log_loss\")\n",
    "clf.fit(X_train,y_train)\n",
    "y_pred = clf.predict(X_test)"
   ]
  },
  {
   "cell_type": "code",
   "execution_count": 6,
   "id": "f9ae58ca-3793-4953-b038-f87ba354793e",
   "metadata": {},
   "outputs": [],
   "source": [
    "accuracy = accuracy_score(y_test, y_pred)\n",
    "precision = precision_score(y_test, y_pred, average=\"weighted\")\n",
    "recall = recall_score(y_test, y_pred,  average=\"weighted\")\n",
    "f1 = f1_score(y_test, y_pred,  average=\"weighted\")"
   ]
  },
  {
   "cell_type": "code",
   "execution_count": 7,
   "id": "0927cb80-1537-4a12-ab69-88c0dd75e9b6",
   "metadata": {},
   "outputs": [
    {
     "name": "stdout",
     "output_type": "stream",
     "text": [
      "Accuracy: 0.7666666666666667\n",
      "Precision: 0.86875\n",
      "Recall: 0.7666666666666667\n",
      "F score: 0.7448888888888889\n"
     ]
    }
   ],
   "source": [
    "print(\"Accuracy:\", accuracy)\n",
    "print(\"Precision:\", precision)\n",
    "print(\"Recall:\", recall)\n",
    "print(\"F score:\", f1)"
   ]
  },
  {
   "cell_type": "code",
   "execution_count": 8,
   "id": "f2a26928-ebbc-497a-bf45-3c0e600accd8",
   "metadata": {},
   "outputs": [],
   "source": [
    "from sklearn.svm import SVC\n",
    "clf = SVC(gamma='auto')\n",
    "clf.fit(X_train,y_train)\n",
    "y_pred = clf.predict(X_test)"
   ]
  },
  {
   "cell_type": "code",
   "execution_count": 9,
   "id": "3bf37e06-fad2-4451-af0d-81572307273f",
   "metadata": {},
   "outputs": [
    {
     "name": "stdout",
     "output_type": "stream",
     "text": [
      "Accuracy: 0.9333333333333333\n",
      "Precision: 0.9454545454545454\n",
      "Recall: 0.9333333333333333\n",
      "F score: 0.9333333333333333\n"
     ]
    }
   ],
   "source": [
    "accuracy = accuracy_score(y_test, y_pred)\n",
    "precision = precision_score(y_test, y_pred, average=\"weighted\")\n",
    "recall = recall_score(y_test, y_pred,  average=\"weighted\")\n",
    "f1 = f1_score(y_test, y_pred,  average=\"weighted\")\n",
    "\n",
    "print(\"Accuracy:\", accuracy)\n",
    "print(\"Precision:\", precision)\n",
    "print(\"Recall:\", recall)\n",
    "print(\"F score:\", f1)"
   ]
  },
  {
   "cell_type": "code",
   "execution_count": 10,
   "id": "56da1f16-edf6-4192-bbe6-036fac8dd08d",
   "metadata": {},
   "outputs": [],
   "source": [
    "from sklearn.tree import DecisionTreeClassifier\n",
    "clf = DecisionTreeClassifier(random_state=0)\n",
    "clf.fit(X_train,y_train)\n",
    "y_pred = clf.predict(X_test)"
   ]
  },
  {
   "cell_type": "code",
   "execution_count": 11,
   "id": "1bd411a6-1c85-4e23-bff0-d7f99b704b26",
   "metadata": {},
   "outputs": [
    {
     "name": "stdout",
     "output_type": "stream",
     "text": [
      "Accuracy: 0.9333333333333333\n",
      "Precision: 0.9454545454545454\n",
      "Recall: 0.9333333333333333\n",
      "F score: 0.9333333333333333\n"
     ]
    }
   ],
   "source": [
    "accuracy = accuracy_score(y_test, y_pred)\n",
    "precision = precision_score(y_test, y_pred, average=\"weighted\")\n",
    "recall = recall_score(y_test, y_pred,  average=\"weighted\")\n",
    "f1 = f1_score(y_test, y_pred,  average=\"weighted\")\n",
    "\n",
    "print(\"Accuracy:\", accuracy)\n",
    "print(\"Precision:\", precision)\n",
    "print(\"Recall:\", recall)\n",
    "print(\"F score:\", f1)"
   ]
  },
  {
   "cell_type": "markdown",
   "id": "24c6e907-cd19-4212-a7a7-cf5988bb7cd0",
   "metadata": {},
   "source": [
    "# Home price forecasting"
   ]
  },
  {
   "cell_type": "code",
   "execution_count": 13,
   "id": "e6b0b021-3d24-4019-88d9-621f4b0609cb",
   "metadata": {},
   "outputs": [],
   "source": [
    "import pandas as pd\n",
    "\n",
    "train = pd.read_csv('../data/house_price/train.csv')\n",
    "X = train[['GrLivArea','YearBuilt']].values\n",
    "y = train[['SalePrice']].values\n",
    "X_train, X_test, y_train, y_test = scratch_train_test_split(X,y,train_size=0.8,random_state=0)"
   ]
  },
  {
   "cell_type": "code",
   "execution_count": 15,
   "id": "5d1fc041-7398-46dc-9e71-db8af5a9cc53",
   "metadata": {},
   "outputs": [],
   "source": [
    "from sklearn.preprocessing import StandardScaler\n",
    "scaler = StandardScaler()\n",
    "scaler.fit(X_train)\n",
    "X_train_std = scaler.transform(X_train)\n",
    "X_test_std = scaler.transform(X_test)"
   ]
  },
  {
   "cell_type": "code",
   "execution_count": 16,
   "id": "1dace2e3-26b0-4de7-b4b2-fbf48e13e81b",
   "metadata": {},
   "outputs": [],
   "source": [
    "from sklearn.linear_model import SGDRegressor\n",
    "reg = SGDRegressor()\n",
    "reg.fit(X_train, y_train)\n",
    "y_pred = reg.predict(X_test_std)"
   ]
  },
  {
   "cell_type": "code",
   "execution_count": 17,
   "id": "ab949ef3-5a34-4519-b89c-3c37a779dbda",
   "metadata": {},
   "outputs": [],
   "source": [
    "from sklearn.metrics import mean_squared_error\n",
    "from sklearn.metrics import r2_score\n",
    "mse = mean_squared_error(y_test,y_pred)\n",
    "rmse = np.sqrt(mse)\n",
    "r2 = r2_score(y_test,y_pred)"
   ]
  },
  {
   "cell_type": "code",
   "execution_count": 18,
   "id": "6606381d-657f-4cf9-8a64-8bddd07aee78",
   "metadata": {},
   "outputs": [
    {
     "name": "stdout",
     "output_type": "stream",
     "text": [
      "1652069799213.9841\n",
      "-554134274318562.4\n"
     ]
    }
   ],
   "source": [
    "print(rmse)\n",
    "print(r2)"
   ]
  },
  {
   "cell_type": "code",
   "execution_count": null,
   "id": "9b805112-5820-4ddb-8f0b-45b9519050cc",
   "metadata": {},
   "outputs": [],
   "source": []
  }
 ],
 "metadata": {
  "kernelspec": {
   "display_name": "Python 3 (ipykernel)",
   "language": "python",
   "name": "python3"
  },
  "language_info": {
   "codemirror_mode": {
    "name": "ipython",
    "version": 3
   },
   "file_extension": ".py",
   "mimetype": "text/x-python",
   "name": "python",
   "nbconvert_exporter": "python",
   "pygments_lexer": "ipython3",
   "version": "3.10.11"
  }
 },
 "nbformat": 4,
 "nbformat_minor": 5
}
