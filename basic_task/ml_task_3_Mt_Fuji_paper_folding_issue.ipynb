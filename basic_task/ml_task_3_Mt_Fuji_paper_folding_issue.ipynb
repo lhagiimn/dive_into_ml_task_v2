{
 "cells": [
  {
   "cell_type": "markdown",
   "id": "f7b4734a-c748-462a-8786-8a1aa199b09e",
   "metadata": {},
   "source": [
    "# [Problem 1] How many times to fold paper to exceed the height of Mt.Fuji?"
   ]
  },
  {
   "cell_type": "code",
   "execution_count": 2,
   "id": "4d13d090-2ad4-4a43-960c-c3ce4fd882bb",
   "metadata": {},
   "outputs": [
    {
     "name": "stdout",
     "output_type": "stream",
     "text": [
      "Number of folds 26 that paper can be higher than Mt.Fuji\n"
     ]
    }
   ],
   "source": [
    "import math\n",
    "\n",
    "thickness = 0.00008\n",
    "mt_fuji_height = 3776\n",
    "\n",
    "folds = math.ceil(math.log2(mt_fuji_height/thickness))\n",
    "print(f\"Number of folds {folds} that paper can be higher than Mt.Fuji\")"
   ]
  },
  {
   "cell_type": "code",
   "execution_count": 5,
   "id": "c2a0503f-5e60-4cb6-950e-e204ae62aacc",
   "metadata": {},
   "outputs": [
    {
     "name": "stdout",
     "output_type": "stream",
     "text": [
      "5368.70912\n"
     ]
    }
   ],
   "source": [
    "# checking \n",
    "print(thickness*(2**(folds)))"
   ]
  },
  {
   "cell_type": "markdown",
   "id": "ea5e23c4-71cc-492a-94c3-af4ef98049ca",
   "metadata": {},
   "source": [
    "# [Problem 2] Function corresponding to arbitrary thickness"
   ]
  },
  {
   "cell_type": "code",
   "execution_count": 6,
   "id": "72f6eb2c-5d0f-4543-9dd0-2cc450309986",
   "metadata": {},
   "outputs": [],
   "source": [
    "def compute_number_of_fold(height, \n",
    "                           thickness = 0.00008):\n",
    "    \"\"\" \n",
    "    A function that calculates the number of folds that can be higher than a given height.\n",
    "\n",
    "    Parameteres\n",
    "    -----------\n",
    "    height: float\n",
    "        A given height of object \n",
    "    thickness: float\n",
    "        a paper thickness (default = 0.00008)\n",
    "\n",
    "    Returns\n",
    "    -------\n",
    "    minimum number of folds : int\n",
    "        The number of folds that can be higher than a given height.\n",
    "    \"\"\"\n",
    "\n",
    "    # formula \n",
    "    fold_times = 0\n",
    "    while True:\n",
    "        thickness = thickness*2\n",
    "        fold_times+=1\n",
    "        if thickness>height:\n",
    "            break\n",
    "    \n",
    "    return fold_times"
   ]
  },
  {
   "cell_type": "code",
   "execution_count": 7,
   "id": "4bdfa08d-9971-4fef-927b-a2173685fae0",
   "metadata": {},
   "outputs": [
    {
     "name": "stdout",
     "output_type": "stream",
     "text": [
      "Number of folds =  69\n"
     ]
    }
   ],
   "source": [
    "## test \n",
    "distance_between_sun_and_earth = 4.0175*(10**16) #\"closest non-Sun star\".\n",
    "num_folds = compute_number_of_fold(height=distance_between_sun_and_earth, \n",
    "                                   thickness = 0.00008)\n",
    "\n",
    "print(\"Number of folds = \", num_folds)"
   ]
  },
  {
   "cell_type": "markdown",
   "id": "dd912fab-4a5c-4546-b93e-5b82c4c4d655",
   "metadata": {},
   "source": [
    "# [Problem 3] Required paper length"
   ]
  },
  {
   "cell_type": "code",
   "execution_count": 8,
   "id": "39f5a44c-795f-473a-99ba-1870e01ea349",
   "metadata": {},
   "outputs": [],
   "source": [
    "def compute_paper_length(number_of_folds, \n",
    "                         thickness = 0.00008):\n",
    "    \"\"\" \n",
    "    A function that calculates the paper length using a given number of folds.\n",
    "\n",
    "    Parameteres\n",
    "    -----------\n",
    "    number_of_folds: int\n",
    "        ## \n",
    "    thickness: float\n",
    "        a paper thickness (default = 0.00008)\n",
    "\n",
    "    Returns\n",
    "    -------\n",
    "    paper_length : float\n",
    "        #### \n",
    "    \"\"\"\n",
    "\n",
    "    # formula \n",
    "    pi = math.pi\n",
    "    paper_length = ((pi*thickness)/6)*(2**number_of_folds+4)*(2**number_of_folds-1)\n",
    "\n",
    "    return paper_length"
   ]
  },
  {
   "cell_type": "code",
   "execution_count": 11,
   "id": "2395fe6c-6a4d-4928-bd91-4a0de619f184",
   "metadata": {},
   "outputs": [
    {
     "name": "stdout",
     "output_type": "stream",
     "text": [
      "The paper length to reach Moon = 3240919444170.78 million km.\n"
     ]
    }
   ],
   "source": [
    "### reach Moon #### \n",
    "folds = 43\n",
    "paper_length = compute_paper_length(number_of_folds=folds, \n",
    "                                    thickness = 0.00008)\n",
    "\n",
    "print(f\"The paper length to reach Moon = {round(paper_length/(1000*1000000), 2)} million km.\")"
   ]
  },
  {
   "cell_type": "code",
   "execution_count": 12,
   "id": "34b0a6da-068e-4047-bd3f-c2f429e43a6c",
   "metadata": {},
   "outputs": [
    {
     "name": "stdout",
     "output_type": "stream",
     "text": [
      "The paper length to reach Mt.Fuji = 47.16 million km.\n"
     ]
    }
   ],
   "source": [
    "### reach Mt.Fuji #### \n",
    "folds = 25\n",
    "paper_length = compute_paper_length(number_of_folds=folds, \n",
    "                                    thickness = 0.00008)\n",
    "\n",
    "print(f\"The paper length to reach Mt.Fuji = {round(paper_length/(1000*1000000), 2)} million km.\")"
   ]
  },
  {
   "cell_type": "code",
   "execution_count": 13,
   "id": "46ea26a9-2cb8-4dd2-b579-349c3d26b5b1",
   "metadata": {},
   "outputs": [
    {
     "name": "stdout",
     "output_type": "stream",
     "text": [
      "The paper length to reach Proxima Centauri = 1.459580360110035e+28 million km.\n"
     ]
    }
   ],
   "source": [
    "### reach Proxima Centauri #### \n",
    "folds = 69\n",
    "paper_length = compute_paper_length(number_of_folds=folds, \n",
    "                                    thickness = 0.00008)\n",
    "\n",
    "print(f\"The paper length to reach Proxima Centauri = {round(paper_length/(1000*1000000), 2)} million km.\")"
   ]
  },
  {
   "cell_type": "code",
   "execution_count": null,
   "id": "ce23ad4f-2717-4e59-a171-5135ed0c9475",
   "metadata": {},
   "outputs": [],
   "source": []
  }
 ],
 "metadata": {
  "kernelspec": {
   "display_name": "Python 3 (ipykernel)",
   "language": "python",
   "name": "python3"
  },
  "language_info": {
   "codemirror_mode": {
    "name": "ipython",
    "version": 3
   },
   "file_extension": ".py",
   "mimetype": "text/x-python",
   "name": "python",
   "nbconvert_exporter": "python",
   "pygments_lexer": "ipython3",
   "version": "3.10.11"
  }
 },
 "nbformat": 4,
 "nbformat_minor": 5
}
