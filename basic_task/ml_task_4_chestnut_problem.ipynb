{
 "cells": [
  {
   "cell_type": "markdown",
   "id": "fc615b97-5156-49e3-85b2-7fbc6c0b7571",
   "metadata": {},
   "source": [
    "# [Problem] The day when chestnut buns cover the solar system"
   ]
  },
  {
   "cell_type": "code",
   "execution_count": 1,
   "id": "02fa7a62-9d31-4f5d-a000-0de5d3961e24",
   "metadata": {},
   "outputs": [],
   "source": [
    "import math\n",
    "\n",
    "def compute_period(chestnut_volume,\n",
    "                   volume_of_solar_system):\n",
    "\n",
    "    \"\"\" \n",
    "    ## \n",
    "\n",
    "    Parameteres\n",
    "    -----------\n",
    "    chestnut_volume: float\n",
    "        #TODO make comment\n",
    "    volume_of_solar_system: float\n",
    "        #TODO make comment\n",
    "\n",
    "    Returns\n",
    "    -------\n",
    "    number_of_days : int\n",
    "        #TODO make comment\n",
    "    \"\"\"\n",
    "\n",
    "    #5 min 2 times increased\n",
    "    hourly_minutes = 60 #hour*minutes\n",
    "    number_of_times = hourly_minutes/5 #expontial growth\n",
    "   \n",
    "    ### number chestnut that can cover solar system\n",
    "    number_of_chestnuts = int(volume_of_solar_system/chestnut_volume)\n",
    "    folds = math.ceil(math.log2(number_of_chestnuts)) #5 minutely\n",
    "    number_of_days = int(folds/number_of_times)\n",
    "\n",
    "    return number_of_days"
   ]
  },
  {
   "cell_type": "code",
   "execution_count": 2,
   "id": "29a5833c-7f48-465c-b04c-f3d84af5713f",
   "metadata": {},
   "outputs": [
    {
     "name": "stdout",
     "output_type": "stream",
     "text": [
      "Number of hours: 22\n"
     ]
    }
   ],
   "source": [
    "chestnut_volume = 0.000000000000005\n",
    "volume_of_solar_system = 9*(10**64)\n",
    "n_hours = compute_period(chestnut_volume=chestnut_volume,\n",
    "                        volume_of_solar_system=volume_of_solar_system)\n",
    "\n",
    "print(\"Number of hours:\", n_hours)"
   ]
  },
  {
   "cell_type": "markdown",
   "id": "75d4df86-79bb-41a9-97a8-8f3723e16748",
   "metadata": {},
   "source": [
    "## tokyo dome"
   ]
  },
  {
   "cell_type": "code",
   "execution_count": 14,
   "id": "68acb5dd-91d2-4089-b208-95431b8f6012",
   "metadata": {},
   "outputs": [],
   "source": [
    "def calculate_buns_occupy_time(buns_volume, \n",
    "                               place_volume):\n",
    "\n",
    "    '''\n",
    "        A function that calculates the number of hours that chestnut bun will cover specific place\n",
    "    \n",
    "        Parameteres\n",
    "        -----------\n",
    "        buns_volume: int\n",
    "            the volume size of the chestnut buns in m3\n",
    "        place_volume: int\n",
    "            the volume size of the place in m3\n",
    "            \n",
    "    \n",
    "        Returns\n",
    "        -------\n",
    "        number_of_doubles : int\n",
    "            minimum number of doubles required to occupy the space given\n",
    "        total_time_to_cover_h: float\n",
    "            minimum number of hours required to occupy the space given\n",
    "    '''\n",
    "\n",
    "    number_of_doubles = math.ceil(math.log2(place_volume/buns_volume))\n",
    "    total_time_to_cover_h = number_of_doubles*5/60\n",
    "    print(f\"number of doubles: {number_of_doubles}\")\n",
    "    print(f\"total hours to cover: {total_time_to_cover_h}\")\n",
    "\n",
    "    return number_of_doubles, total_time_to_cover_h\n"
   ]
  },
  {
   "cell_type": "code",
   "execution_count": 15,
   "id": "515ba6bb-1f16-4710-8c90-544431c33ba3",
   "metadata": {},
   "outputs": [
    {
     "name": "stdout",
     "output_type": "stream",
     "text": [
      "number of doubles: 33\n",
      "total hours to cover: 2.75\n"
     ]
    },
    {
     "data": {
      "text/plain": [
       "(33, 2.75)"
      ]
     },
     "execution_count": 15,
     "metadata": {},
     "output_type": "execute_result"
    }
   ],
   "source": [
    "tokyo_dome_volume_m3 = 1240000\n",
    "bun_volume_m3 = 250*10**(-6)\n",
    "calculate_buns_occupy_time(buns_volume=bun_volume_m3, place_volume=tokyo_dome_volume_m3)"
   ]
  },
  {
   "cell_type": "code",
   "execution_count": null,
   "id": "f3bf59a1-04ce-49fc-9e1f-8410a0c482a0",
   "metadata": {},
   "outputs": [],
   "source": []
  }
 ],
 "metadata": {
  "kernelspec": {
   "display_name": "Python 3 (ipykernel)",
   "language": "python",
   "name": "python3"
  },
  "language_info": {
   "codemirror_mode": {
    "name": "ipython",
    "version": 3
   },
   "file_extension": ".py",
   "mimetype": "text/x-python",
   "name": "python",
   "nbconvert_exporter": "python",
   "pygments_lexer": "ipython3",
   "version": "3.10.11"
  }
 },
 "nbformat": 4,
 "nbformat_minor": 5
}
