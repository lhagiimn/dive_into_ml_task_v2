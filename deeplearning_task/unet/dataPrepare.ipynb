{
 "cells": [
  {
   "cell_type": "code",
   "execution_count": 5,
   "metadata": {},
   "outputs": [
    {
     "name": "stdout",
     "output_type": "stream",
     "text": [
      "Collecting scikit-image\n",
      "  Downloading scikit_image-0.23.2-cp310-cp310-win_amd64.whl.metadata (14 kB)\n",
      "Requirement already satisfied: numpy>=1.23 in c:\\users\\keun ho ryu\\appdata\\local\\programs\\python\\python310\\lib\\site-packages (from scikit-image) (1.26.1)\n",
      "Requirement already satisfied: scipy>=1.9 in c:\\users\\keun ho ryu\\appdata\\local\\programs\\python\\python310\\lib\\site-packages (from scikit-image) (1.11.3)\n",
      "Requirement already satisfied: networkx>=2.8 in c:\\users\\keun ho ryu\\appdata\\local\\programs\\python\\python310\\lib\\site-packages (from scikit-image) (3.2.1)\n",
      "Requirement already satisfied: pillow>=9.1 in c:\\users\\keun ho ryu\\appdata\\local\\programs\\python\\python310\\lib\\site-packages (from scikit-image) (10.1.0)\n",
      "Collecting imageio>=2.33 (from scikit-image)\n",
      "  Downloading imageio-2.34.1-py3-none-any.whl.metadata (4.9 kB)\n",
      "Collecting tifffile>=2022.8.12 (from scikit-image)\n",
      "  Downloading tifffile-2024.5.3-py3-none-any.whl.metadata (31 kB)\n",
      "Requirement already satisfied: packaging>=21 in c:\\users\\keun ho ryu\\appdata\\local\\programs\\python\\python310\\lib\\site-packages (from scikit-image) (23.2)\n",
      "Collecting lazy-loader>=0.4 (from scikit-image)\n",
      "  Downloading lazy_loader-0.4-py3-none-any.whl.metadata (7.6 kB)\n",
      "Downloading scikit_image-0.23.2-cp310-cp310-win_amd64.whl (12.7 MB)\n",
      "   ---------------------------------------- 0.0/12.7 MB ? eta -:--:--\n",
      "   ---------------------------------------- 0.1/12.7 MB 3.4 MB/s eta 0:00:04\n",
      "   ---------------------------------------- 0.1/12.7 MB 1.4 MB/s eta 0:00:09\n",
      "    --------------------------------------- 0.2/12.7 MB 2.2 MB/s eta 0:00:06\n",
      "    --------------------------------------- 0.3/12.7 MB 2.0 MB/s eta 0:00:07\n",
      "    --------------------------------------- 0.3/12.7 MB 1.8 MB/s eta 0:00:07\n",
      "   - -------------------------------------- 0.6/12.7 MB 2.5 MB/s eta 0:00:05\n",
      "   -- ------------------------------------- 0.7/12.7 MB 2.8 MB/s eta 0:00:05\n",
      "   --- ------------------------------------ 1.1/12.7 MB 3.8 MB/s eta 0:00:04\n",
      "   ---- ----------------------------------- 1.5/12.7 MB 4.6 MB/s eta 0:00:03\n",
      "   ----- ---------------------------------- 1.8/12.7 MB 4.9 MB/s eta 0:00:03\n",
      "   ------- -------------------------------- 2.3/12.7 MB 5.7 MB/s eta 0:00:02\n",
      "   -------- ------------------------------- 2.8/12.7 MB 6.1 MB/s eta 0:00:02\n",
      "   --------- ------------------------------ 3.2/12.7 MB 6.3 MB/s eta 0:00:02\n",
      "   ---------- ----------------------------- 3.2/12.7 MB 6.4 MB/s eta 0:00:02\n",
      "   ---------- ----------------------------- 3.2/12.7 MB 6.4 MB/s eta 0:00:02\n",
      "   ---------- ----------------------------- 3.2/12.7 MB 6.4 MB/s eta 0:00:02\n",
      "   ---------- ----------------------------- 3.2/12.7 MB 6.4 MB/s eta 0:00:02\n",
      "   ----------- ---------------------------- 3.6/12.7 MB 5.4 MB/s eta 0:00:02\n",
      "   ----------- ---------------------------- 3.6/12.7 MB 4.9 MB/s eta 0:00:02\n",
      "   ----------- ---------------------------- 3.6/12.7 MB 4.9 MB/s eta 0:00:02\n",
      "   ----------- ---------------------------- 3.6/12.7 MB 4.9 MB/s eta 0:00:02\n",
      "   -------------- ------------------------- 4.7/12.7 MB 5.6 MB/s eta 0:00:02\n",
      "   -------------- ------------------------- 4.7/12.7 MB 5.6 MB/s eta 0:00:02\n",
      "   ----------------- ---------------------- 5.7/12.7 MB 6.2 MB/s eta 0:00:02\n",
      "   ------------------ --------------------- 5.9/12.7 MB 6.4 MB/s eta 0:00:02\n",
      "   ------------------ --------------------- 5.9/12.7 MB 6.4 MB/s eta 0:00:02\n",
      "   ------------------ --------------------- 5.9/12.7 MB 6.4 MB/s eta 0:00:02\n",
      "   -------------------- ------------------- 6.6/12.7 MB 6.0 MB/s eta 0:00:02\n",
      "   --------------------- ------------------ 6.7/12.7 MB 6.0 MB/s eta 0:00:02\n",
      "   --------------------- ------------------ 6.8/12.7 MB 5.8 MB/s eta 0:00:02\n",
      "   --------------------- ------------------ 6.9/12.7 MB 5.8 MB/s eta 0:00:02\n",
      "   ---------------------- ----------------- 7.2/12.7 MB 5.7 MB/s eta 0:00:01\n",
      "   ---------------------- ----------------- 7.2/12.7 MB 5.7 MB/s eta 0:00:01\n",
      "   ---------------------- ----------------- 7.2/12.7 MB 5.4 MB/s eta 0:00:02\n",
      "   ------------------------ --------------- 7.7/12.7 MB 5.5 MB/s eta 0:00:01\n",
      "   ------------------------ --------------- 7.9/12.7 MB 5.6 MB/s eta 0:00:01\n",
      "   ------------------------ --------------- 7.9/12.7 MB 5.6 MB/s eta 0:00:01\n",
      "   ------------------------ --------------- 7.9/12.7 MB 5.6 MB/s eta 0:00:01\n",
      "   ------------------------ --------------- 7.9/12.7 MB 5.1 MB/s eta 0:00:01\n",
      "   ------------------------- -------------- 8.1/12.7 MB 5.2 MB/s eta 0:00:01\n",
      "   ------------------------- -------------- 8.2/12.7 MB 5.0 MB/s eta 0:00:01\n",
      "   -------------------------- ------------- 8.5/12.7 MB 5.1 MB/s eta 0:00:01\n",
      "   -------------------------- ------------- 8.5/12.7 MB 5.1 MB/s eta 0:00:01\n",
      "   --------------------------- ------------ 8.7/12.7 MB 5.0 MB/s eta 0:00:01\n",
      "   --------------------------- ------------ 8.7/12.7 MB 4.9 MB/s eta 0:00:01\n",
      "   --------------------------- ------------ 8.8/12.7 MB 4.9 MB/s eta 0:00:01\n",
      "   --------------------------- ------------ 8.9/12.7 MB 4.8 MB/s eta 0:00:01\n",
      "   --------------------------- ------------ 8.9/12.7 MB 4.7 MB/s eta 0:00:01\n",
      "   ---------------------------- ----------- 9.1/12.7 MB 4.8 MB/s eta 0:00:01\n",
      "   ------------------------------ --------- 9.6/12.7 MB 4.9 MB/s eta 0:00:01\n",
      "   ------------------------------- -------- 9.9/12.7 MB 5.0 MB/s eta 0:00:01\n",
      "   ------------------------------- -------- 9.9/12.7 MB 5.0 MB/s eta 0:00:01\n",
      "   ------------------------------- -------- 9.9/12.7 MB 5.0 MB/s eta 0:00:01\n",
      "   ------------------------------- -------- 10.1/12.7 MB 4.8 MB/s eta 0:00:01\n",
      "   -------------------------------- ------- 10.2/12.7 MB 4.8 MB/s eta 0:00:01\n",
      "   -------------------------------- ------- 10.2/12.7 MB 4.8 MB/s eta 0:00:01\n",
      "   --------------------------------- ------ 10.6/12.7 MB 5.0 MB/s eta 0:00:01\n",
      "   --------------------------------- ------ 10.7/12.7 MB 5.0 MB/s eta 0:00:01\n",
      "   --------------------------------- ------ 10.8/12.7 MB 5.0 MB/s eta 0:00:01\n",
      "   ---------------------------------- ----- 11.0/12.7 MB 5.0 MB/s eta 0:00:01\n",
      "   ---------------------------------- ----- 11.0/12.7 MB 5.0 MB/s eta 0:00:01\n",
      "   ---------------------------------- ----- 11.1/12.7 MB 4.8 MB/s eta 0:00:01\n",
      "   ----------------------------------- ---- 11.4/12.7 MB 4.7 MB/s eta 0:00:01\n",
      "   ------------------------------------ --- 11.5/12.7 MB 4.6 MB/s eta 0:00:01\n",
      "   ------------------------------------- -- 11.8/12.7 MB 4.6 MB/s eta 0:00:01\n",
      "   ------------------------------------- -- 11.9/12.7 MB 4.6 MB/s eta 0:00:01\n",
      "   ------------------------------------- -- 11.9/12.7 MB 4.6 MB/s eta 0:00:01\n",
      "   ------------------------------------- -- 12.1/12.7 MB 4.5 MB/s eta 0:00:01\n",
      "   ---------------------------------------  12.5/12.7 MB 4.4 MB/s eta 0:00:01\n",
      "   ---------------------------------------  12.6/12.7 MB 4.3 MB/s eta 0:00:01\n",
      "   ---------------------------------------  12.7/12.7 MB 4.3 MB/s eta 0:00:01\n",
      "   ---------------------------------------  12.7/12.7 MB 4.3 MB/s eta 0:00:01\n",
      "   ---------------------------------------  12.7/12.7 MB 4.3 MB/s eta 0:00:01\n",
      "   ---------------------------------------- 12.7/12.7 MB 4.1 MB/s eta 0:00:00\n",
      "Downloading imageio-2.34.1-py3-none-any.whl (313 kB)\n",
      "   ---------------------------------------- 0.0/313.5 kB ? eta -:--:--\n",
      "   ------------------------ --------------- 194.6/313.5 kB 4.0 MB/s eta 0:00:01\n",
      "   ---------------------------------------  307.2/313.5 kB 3.8 MB/s eta 0:00:01\n",
      "   ---------------------------------------- 313.5/313.5 kB 3.3 MB/s eta 0:00:00\n",
      "Downloading lazy_loader-0.4-py3-none-any.whl (12 kB)\n",
      "Downloading tifffile-2024.5.3-py3-none-any.whl (225 kB)\n",
      "   ---------------------------------------- 0.0/225.3 kB ? eta -:--:--\n",
      "   -------------------------------- ------- 184.3/225.3 kB 5.6 MB/s eta 0:00:01\n",
      "   ---------------------------------------  225.3/225.3 kB 4.6 MB/s eta 0:00:01\n",
      "   ---------------------------------------- 225.3/225.3 kB 1.7 MB/s eta 0:00:00\n",
      "Installing collected packages: tifffile, lazy-loader, imageio, scikit-image\n",
      "Successfully installed imageio-2.34.1 lazy-loader-0.4 scikit-image-0.23.2 tifffile-2024.5.3\n"
     ]
    }
   ],
   "source": [
    "!pip install scikit-image"
   ]
  },
  {
   "cell_type": "code",
   "execution_count": 6,
   "metadata": {},
   "outputs": [],
   "source": [
    "from data import *"
   ]
  },
  {
   "cell_type": "markdown",
   "metadata": {},
   "source": [
    "# data augmentation \n",
    "\n",
    "In deep learning tasks, a lot of data is need to train DNN model, when the dataset is not big enough, data augmentation should be applied.\n",
    "\n",
    "keras.preprocessing.image.ImageDataGenerator is a data generator, which can feed the DNN with data like : (data,label), it can also do data augmentation at the same time.\n",
    "\n",
    "It is very convenient for us to use keras.preprocessing.image.ImageDataGenerator to do data augmentation by implement image rotation, shift, rescale and so on... see [keras documentation](https://keras.io/preprocessing/image/) for detail.\n",
    "\n",
    "For image segmentation tasks, the image and mask must be transformed **together!!**"
   ]
  },
  {
   "cell_type": "markdown",
   "metadata": {},
   "source": [
    "## define your data generator\n",
    "\n",
    "If you want to visualize your data augmentation result, set save_to_dir = your path"
   ]
  },
  {
   "cell_type": "code",
   "execution_count": 7,
   "metadata": {},
   "outputs": [],
   "source": [
    "#if you don't want to do data augmentation, set data_gen_args as an empty dict.\n",
    "#data_gen_args = dict()\n",
    "\n",
    "data_gen_args = dict(rotation_range=0.2,\n",
    "                    width_shift_range=0.05,\n",
    "                    height_shift_range=0.05,\n",
    "                    shear_range=0.05,\n",
    "                    zoom_range=0.05,\n",
    "                    horizontal_flip=True,\n",
    "                    fill_mode='nearest')\n",
    "myGenerator = trainGenerator(20,'data/membrane/train','image','label',data_gen_args,save_to_dir = \"data/membrane/train/aug\")"
   ]
  },
  {
   "cell_type": "markdown",
   "metadata": {},
   "source": [
    "## visualize your data augmentation result"
   ]
  },
  {
   "cell_type": "code",
   "execution_count": 8,
   "metadata": {},
   "outputs": [
    {
     "name": "stdout",
     "output_type": "stream",
     "text": [
      "Found 30 images belonging to 1 classes.\n",
      "Found 30 images belonging to 1 classes.\n"
     ]
    }
   ],
   "source": [
    "#you will see 60 transformed images and their masks in data/membrane/train/aug\n",
    "num_batch = 3\n",
    "for i,batch in enumerate(myGenerator):\n",
    "    if(i >= num_batch):\n",
    "        break"
   ]
  },
  {
   "cell_type": "markdown",
   "metadata": {},
   "source": [
    "## create .npy data\n",
    "\n",
    "If your computer has enough memory, you can create npy files containing all your images and masks, and feed your DNN with them."
   ]
  },
  {
   "cell_type": "code",
   "execution_count": 9,
   "metadata": {},
   "outputs": [],
   "source": [
    "image_arr,mask_arr = geneTrainNpy(\"data/membrane/train/aug/\",\"data/membrane/train/aug/\")\n",
    "#np.save(\"data/image_arr.npy\",image_arr)\n",
    "#np.save(\"data/mask_arr.npy\",mask_arr)"
   ]
  },
  {
   "cell_type": "code",
   "execution_count": null,
   "metadata": {},
   "outputs": [],
   "source": []
  }
 ],
 "metadata": {
  "kernelspec": {
   "display_name": "Python 3 (ipykernel)",
   "language": "python",
   "name": "python3"
  },
  "language_info": {
   "codemirror_mode": {
    "name": "ipython",
    "version": 3
   },
   "file_extension": ".py",
   "mimetype": "text/x-python",
   "name": "python",
   "nbconvert_exporter": "python",
   "pygments_lexer": "ipython3",
   "version": "3.10.11"
  }
 },
 "nbformat": 4,
 "nbformat_minor": 4
}
