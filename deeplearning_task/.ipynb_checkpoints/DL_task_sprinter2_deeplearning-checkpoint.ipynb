{
 "cells": [
  {
   "cell_type": "code",
   "execution_count": 9,
   "id": "e9f7f304-c553-45fc-92f4-506e61a32efc",
   "metadata": {},
   "outputs": [],
   "source": [
    "import numpy as np"
   ]
  },
  {
   "cell_type": "code",
   "execution_count": 1,
   "id": "305bcee8-a199-463f-805d-557c5ddb7640",
   "metadata": {},
   "outputs": [],
   "source": [
    "# [Problem 1] Classification of fully connected layers"
   ]
  },
  {
   "cell_type": "code",
   "execution_count": 10,
   "id": "7e9292ab-9258-49cc-b42b-0899ef0131d6",
   "metadata": {},
   "outputs": [],
   "source": [
    "class FC:\n",
    "    \"\"\"\n",
    "    ノード数n_nodes1からn_nodes2への全結合層\n",
    "    Parameters\n",
    "    ----------\n",
    "    n_nodes1 : int\n",
    "      前の層のノード数\n",
    "    n_nodes2 : int\n",
    "      後の層のノード数\n",
    "    initializer : 初期化方法のインスタンス\n",
    "    optimizer : 最適化手法のインスタンス\n",
    "    \"\"\"\n",
    "    def __init__(self, n_nodes1, n_nodes2, initializer, optimizer):\n",
    "        \n",
    "        self.optimizer = optimizer\n",
    "        self.W, self.B = initializer.W(n_nodes1, n_nodes2), initializer.B(n_nodes2)\n",
    "        \n",
    "        \n",
    "    def forward(self, X):\n",
    "        \"\"\"\n",
    "        フォワード\n",
    "        Parameters\n",
    "        ----------\n",
    "        X : 次の形のndarray, shape (batch_size, n_nodes1)\n",
    "            入力\n",
    "        Returns\n",
    "        ----------\n",
    "        A : 次の形のndarray, shape (batch_size, n_nodes2)\n",
    "            出力\n",
    "        \"\"\"\n",
    "        A = X @ self.W + self.B\n",
    "        \n",
    "        return A\n",
    "        \n",
    "    def backward(self, dA):\n",
    "        \"\"\"\n",
    "        バックワード\n",
    "        Parameters\n",
    "        ----------\n",
    "        dA : 次の形のndarray, shape (batch_size, n_nodes2)\n",
    "            後ろから流れてきた勾配\n",
    "        Returns\n",
    "        ----------\n",
    "        dZ : 次の形のndarray, shape (batch_size, n_nodes1)\n",
    "            前に流す勾配\n",
    "        \"\"\"\n",
    "        dZ = dA @ self.W.T\n",
    "        dB = np.sum(dA, axis=0)\n",
    "        # 更新\n",
    "        self = self.optimizer.update(self)\n",
    "        return dZ"
   ]
  },
  {
   "cell_type": "code",
   "execution_count": 3,
   "id": "853f86c3-1fd1-4ca3-85d3-12d6ef4b9f83",
   "metadata": {},
   "outputs": [],
   "source": [
    "# initializer\n",
    "\n",
    "class SimpleInitializer:\n",
    "    \"\"\"\n",
    "    ガウス分布によるシンプルな初期化\n",
    "    Parameters\n",
    "    ----------\n",
    "    sigma : float\n",
    "      ガウス分布の標準偏差\n",
    "    \"\"\"\n",
    "    def __init__(self, sigma):\n",
    "        self.sigma = sigma\n",
    "        \n",
    "    def W(self, n_nodes1, n_nodes2):\n",
    "        \"\"\"\n",
    "        重みの初期化\n",
    "        Parameters\n",
    "        ----------\n",
    "        n_nodes1 : int\n",
    "          前の層のノード数\n",
    "        n_nodes2 : int\n",
    "          後の層のノード数\n",
    "\n",
    "        Returns\n",
    "        ----------\n",
    "        W :\n",
    "        \"\"\"\n",
    "        W = self.sigma * np.random.randn(n_nodes1, n_nodes2)\n",
    "        return W\n",
    "        \n",
    "    def B(self, n_nodes2):\n",
    "        \"\"\"\n",
    "        バイアスの初期化\n",
    "        Parameters\n",
    "        ----------\n",
    "        n_nodes2 : int\n",
    "          後の層のノード数\n",
    "\n",
    "        Returns\n",
    "        ----------\n",
    "        B :\n",
    "        \"\"\"\n",
    "        B = self.sigma * np.random.randn(1, n_nodes2)\n",
    "        \n",
    "        return B"
   ]
  },
  {
   "cell_type": "code",
   "execution_count": 4,
   "id": "535ecc9b-8fa3-4595-add8-e59a51a90543",
   "metadata": {},
   "outputs": [],
   "source": [
    "# optimizer "
   ]
  },
  {
   "cell_type": "code",
   "execution_count": 11,
   "id": "b9b2f5cd-1c47-471c-9387-5cb4788146cc",
   "metadata": {},
   "outputs": [],
   "source": [
    "class SGD:\n",
    "    \"\"\"\n",
    "    確率的勾配降下法\n",
    "    Parameters\n",
    "    ----------\n",
    "    lr : 学習率\n",
    "    \"\"\"\n",
    "    def __init__(self, lr):\n",
    "        self.lr = lr\n",
    "    def update(self, layer):\n",
    "        \"\"\"\n",
    "        ある層の重みやバイアスの更新\n",
    "        Parameters\n",
    "        ----------\n",
    "        layer : 更新前の層のインスタンス\n",
    "        \"\"\"\n",
    "        layer.W -= self.lr * layer.W\n",
    "        layer.B -= self.lr * layer.B\n",
    "        return layer"
   ]
  },
  {
   "cell_type": "code",
   "execution_count": null,
   "id": "97649648-113a-4c8a-ad0f-4db727ba18af",
   "metadata": {},
   "outputs": [],
   "source": [
    "class activation_func:\n",
    "\n",
    "    def __init__(self, function_type):\n",
    "        \n",
    "        self.function_type=function_type\n",
    "        \n",
    "    def forward(self, X):\n",
    "        \n",
    "        if self.function_type==\"tanh\":\n",
    "            A = self.tanh_function(X)\n",
    "        elif self.function_type==\"softmax\":\n",
    "            A = self.softmax(X)\n",
    "\n",
    "        return A\n",
    "        \n",
    "    def backward(self, X):\n",
    "\n",
    "        if self.function_type==\"tanh\":\n",
    "            A = self.grad_tanh(X)\n",
    "        else:\n",
    "            print(\"Not implemented\")\n",
    "      \n",
    "        return A\n",
    "\n",
    "    def tanh_function(self, A):\n",
    "        return (np.exp(A)-np.exp(-A))/(np.exp(A)+np.exp(-A))\n",
    "    \n",
    "    def softmax(self, A):\n",
    "        return np.exp(A)/np.sum(np.exp(A), axis=0)\n",
    "\n",
    "    def grad_tanh(self, A):\n",
    "         return (1 - self.tanh_function(self.A)**2)\n",
    "    \n",
    "    "
   ]
  },
  {
   "cell_type": "code",
   "execution_count": 15,
   "id": "3d523796-1f41-45cf-88e7-2ec8561fa9c1",
   "metadata": {},
   "outputs": [],
   "source": [
    "#test"
   ]
  },
  {
   "cell_type": "code",
   "execution_count": 12,
   "id": "7d921e49-4857-46ae-b04d-600262ee2046",
   "metadata": {},
   "outputs": [],
   "source": [
    "layer = FC(n_nodes1=10, n_nodes2=20, initializer=SimpleInitializer(sigma=0.005), optimizer=SGD(lr=0.001))"
   ]
  },
  {
   "cell_type": "code",
   "execution_count": 14,
   "id": "57aaa977-f78a-456f-b07e-46b3c9d8b36f",
   "metadata": {},
   "outputs": [
    {
     "data": {
      "text/plain": [
       "array([[-0.00748308,  0.00385237, -0.00405914,  0.00465856,  0.00280721,\n",
       "         0.00110405,  0.01108828, -0.00374402,  0.00407199, -0.00511326,\n",
       "         0.00295041,  0.01003268,  0.00634435, -0.00586936, -0.00803456,\n",
       "        -0.00401202,  0.00287073, -0.00080941, -0.0021942 ,  0.00425884]])"
      ]
     },
     "execution_count": 14,
     "metadata": {},
     "output_type": "execute_result"
    }
   ],
   "source": [
    "layer.B"
   ]
  },
  {
   "cell_type": "code",
   "execution_count": null,
   "id": "139bd8a1-993b-4ac9-9e58-e5cdd890c6a7",
   "metadata": {},
   "outputs": [],
   "source": []
  }
 ],
 "metadata": {
  "kernelspec": {
   "display_name": "Python 3 (ipykernel)",
   "language": "python",
   "name": "python3"
  },
  "language_info": {
   "codemirror_mode": {
    "name": "ipython",
    "version": 3
   },
   "file_extension": ".py",
   "mimetype": "text/x-python",
   "name": "python",
   "nbconvert_exporter": "python",
   "pygments_lexer": "ipython3",
   "version": "3.10.11"
  }
 },
 "nbformat": 4,
 "nbformat_minor": 5
}
