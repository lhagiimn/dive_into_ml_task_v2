{
 "cells": [
  {
   "cell_type": "code",
   "execution_count": 5,
   "id": "a0ba4f23-031f-4733-8e9d-2a760a21925f",
   "metadata": {},
   "outputs": [],
   "source": [
    "import numpy as np\n",
    "import pandas as pd\n",
    "from sklearn.datasets import make_blobs\n",
    "import matplotlib.pyplot as plt\n",
    "from sklearn.decomposition import PCA\n",
    "from sklearn.cluster import KMeans\n",
    "from sklearn.metrics import silhouette_score\n",
    "from sklearn.manifold import TSNE\n",
    "from sklearn.cluster import DBSCAN"
   ]
  },
  {
   "cell_type": "code",
   "execution_count": 6,
   "id": "1465610c-8523-4e6e-87f4-1b92a4deb0d1",
   "metadata": {},
   "outputs": [],
   "source": [
    "class ScratchKMeans():\n",
    "    def __init__(self, n_clusters, n_init, max_iter, tol, verbose=False, random_state=None):\n",
    "        self.n_clusters = n_clusters\n",
    "        self.n_init = n_init\n",
    "        self.max_iter = max_iter\n",
    "        self.tol = tol\n",
    "        self.verbose = verbose\n",
    "        self.random_state = random_state\n",
    "        self.centroids = None\n",
    "\n",
    "    def fit(self, X):\n",
    "        best_sse = np.inf\n",
    "        best_centroids = None\n",
    "\n",
    "        for _ in range(self.n_init):\n",
    "            # Initialize centroids by randomly selecting data points\n",
    "            np.random.seed(self.random_state)\n",
    "            centroids = X[np.random.choice(X.shape[0], self.n_clusters, replace=False)]\n",
    "\n",
    "            for _ in range(self.max_iter):\n",
    "                # Assign each data point to the nearest centroid\n",
    "                labels = self._assign_clusters(X, centroids)\n",
    "\n",
    "                # Update centroids based on the mean of data points in each cluster\n",
    "                new_centroids = self._update_centroids(X, labels)\n",
    "\n",
    "                # Check for convergence\n",
    "                if np.linalg.norm(new_centroids - centroids) < self.tol:\n",
    "                    break\n",
    "\n",
    "                centroids = new_centroids\n",
    "\n",
    "            # Calculate SSE for the current initialization\n",
    "            _sse = self._calculate_sse(X, centroids)\n",
    "\n",
    "            # Update best result if the current inertia is lower\n",
    "            if _sse < best_sse:\n",
    "                best_sse = _sse\n",
    "                best_centroids = centroids\n",
    "\n",
    "        self.centroids = best_centroids\n",
    "\n",
    "        if self.verbose:\n",
    "            print(f\"Number of iterations: {self.max_iter}\")\n",
    "            print(f\"Best SSE: {best_sse}\")\n",
    "\n",
    "    def _assign_clusters(self, X, centroids):\n",
    "        distances = np.linalg.norm(X[:, np.newaxis] - centroids, axis=2)\n",
    "        labels = np.argmin(distances, axis=1)\n",
    "        return labels\n",
    "\n",
    "    def _update_centroids(self, X, labels):\n",
    "        new_centroids = np.array([X[labels == k].mean(axis=0) for\n",
    "                                  k in range(self.n_clusters)])\n",
    "        return new_centroids\n",
    "\n",
    "    def _calculate_sse(self, X, centroids):\n",
    "        distances = np.linalg.norm(X[:, np.newaxis] - centroids, axis=2)\n",
    "        #min_distances = np.min(distances, axis=1)\n",
    "        sse = np.sum(distances**2)\n",
    "        return sse\n",
    "\n",
    "    def predict(self, X):\n",
    "        labels = self._assign_clusters(X, self.centroids)\n",
    "        return labels, self.centroids"
   ]
  },
  {
   "cell_type": "code",
   "execution_count": 8,
   "id": "ed2d5b8c-eacb-4a1b-909d-31fc0e951c85",
   "metadata": {},
   "outputs": [],
   "source": [
    "### sse calculation ###\n",
    "def calculate_sse(X, n_clusters, labels, centroids):\n",
    "    \"\"\"\n",
    "    Calculates the sum of squared errors (SSE).\n",
    "\n",
    "    Args:\n",
    "        X (np.ndarray): The data matrix of shape (N, D).\n",
    "        r (np.ndarray): The cluster assignment matrix of shape (N, K).\n",
    "        mu (np.ndarray): The centroids of shape (K, D).\n",
    "\n",
    "    Returns:\n",
    "        float: The sum of squared errors.\n",
    "    \"\"\"\n",
    "    sse = 0\n",
    "    for k in range(n_clusters):\n",
    "        Xk = X[labels == k, :]\n",
    "        if len(Xk) > 0:\n",
    "            sse += np.sum((Xk - centroids[k, :])**2)\n",
    "    return sse"
   ]
  },
  {
   "cell_type": "code",
   "execution_count": 13,
   "id": "6899f2dc-62b4-4796-b88b-30fd3c64b357",
   "metadata": {},
   "outputs": [],
   "source": [
    "def elbow_method(X, max_clusters):\n",
    "\n",
    "    \"\"\"\n",
    "    Performs the elbow method to determine the optimal number of clusters.\n",
    "\n",
    "    Args:\n",
    "        X (np.ndarray): The data matrix of shape (N, D).\n",
    "        K_range (list): The range of K values to consider.\n",
    "\n",
    "    Returns:\n",
    "        int: The optimal number of clusters.\n",
    "    \"\"\"\n",
    "    sse_values = []\n",
    "    number_of_clusters = []\n",
    "    for K in range(2, max_clusters):\n",
    "        kmeans = ScratchKMeans(n_clusters=K,\n",
    "                               n_init=10,\n",
    "                               max_iter=100,\n",
    "                               tol=1e-4,\n",
    "                               verbose=True,\n",
    "                               random_state=42)\n",
    "        kmeans.fit(X)\n",
    "        labels, centroids = kmeans.predict(X)\n",
    "        sse = calculate_sse(X, K, labels, centroids)\n",
    "        sse_values.append(sse)\n",
    "        number_of_clusters.append(K)\n",
    "   \n",
    "    # Plot the elbow graph\n",
    "    plt.plot(number_of_clusters, sse_values)\n",
    "    plt.xlabel('Number of clusters (K)')\n",
    "    plt.ylabel('Sum of squared errors (SSE)')\n",
    "    plt.title('Elbow method')\n",
    "    plt.show()\n",
    "\n",
    "    # Find the elbow point\n",
    "    elbow_point = 0\n",
    "    min_sse = np.inf\n",
    "    for i, sse in enumerate(sse_values):\n",
    "        if sse < min_sse:\n",
    "            min_sse = sse\n",
    "            elbow_point = i\n",
    "\n",
    "    return number_of_clusters[elbow_point]"
   ]
  },
  {
   "cell_type": "markdown",
   "id": "99d8fcca-d63c-46f2-93e7-93eea9c8d0d9",
   "metadata": {},
   "source": [
    "# test "
   ]
  },
  {
   "cell_type": "code",
   "execution_count": 9,
   "id": "1dd8f619-5e3b-4378-816d-200a8b79edda",
   "metadata": {},
   "outputs": [],
   "source": [
    "# Load the data\n",
    "X, _ = make_blobs(n_samples=100, n_features=2,\n",
    "                  centers=4, cluster_std=0.5,\n",
    "                  shuffle=True, random_state=0)"
   ]
  },
  {
   "cell_type": "code",
   "execution_count": 11,
   "id": "7125d861-e99f-4ece-bea4-7527c76baedb",
   "metadata": {},
   "outputs": [
    {
     "name": "stdout",
     "output_type": "stream",
     "text": [
      "Number of iterations: 200\n",
      "Best SSE: 7552.843993824609\n"
     ]
    }
   ],
   "source": [
    "kmeans = ScratchKMeans(n_clusters=4,\n",
    "                       n_init=10,\n",
    "                       max_iter=200,\n",
    "                       tol=1e-4, verbose=True,\n",
    "                       random_state=42)\n",
    "kmeans.fit(X)\n",
    "predicted_labels = kmeans.predict(X)"
   ]
  },
  {
   "cell_type": "markdown",
   "id": "cf2e6844-eab8-4e71-a32e-47d62d82aa42",
   "metadata": {},
   "source": [
    "# elbow method"
   ]
  },
  {
   "cell_type": "code",
   "execution_count": 14,
   "id": "6b687ba4-cdbe-4724-81a6-eb4d87f14157",
   "metadata": {},
   "outputs": [
    {
     "name": "stdout",
     "output_type": "stream",
     "text": [
      "Number of iterations: 100\n",
      "Best SSE: 3469.78053001871\n",
      "Number of iterations: 100\n",
      "Best SSE: 4873.118423366137\n",
      "Number of iterations: 100\n",
      "Best SSE: 7552.843993824609\n",
      "Number of iterations: 100\n",
      "Best SSE: 9447.279875914553\n",
      "Number of iterations: 100\n",
      "Best SSE: 10650.325131000925\n",
      "Number of iterations: 100\n",
      "Best SSE: 11944.477011855\n",
      "Number of iterations: 100\n",
      "Best SSE: 12929.57883535219\n",
      "Number of iterations: 100\n",
      "Best SSE: 15348.550046756613\n",
      "Number of iterations: 100\n",
      "Best SSE: 16344.312428128413\n",
      "Number of iterations: 100\n",
      "Best SSE: 17789.18672918962\n",
      "Number of iterations: 100\n",
      "Best SSE: 20222.770115267682\n",
      "Number of iterations: 100\n",
      "Best SSE: 23122.461647285203\n",
      "Number of iterations: 100\n",
      "Best SSE: 25385.74024479849\n"
     ]
    },
    {
     "data": {
      "image/png": "[encoded data removed]",
      "text/plain": [
       "<Figure size 640x480 with 1 Axes>"
      ]
     },
     "metadata": {},
     "output_type": "display_data"
    }
   ],
   "source": [
    "K = elbow_method(X, max_clusters=15)"
   ]
  },
  {
   "cell_type": "code",
   "execution_count": 15,
   "id": "eb3e3596-37c6-4d08-94c0-3353727ed18b",
   "metadata": {},
   "outputs": [
    {
     "name": "stdout",
     "output_type": "stream",
     "text": [
      "Best number of cluster: 14\n"
     ]
    }
   ],
   "source": [
    "print(\"Best number of cluster:\", K)"
   ]
  },
  {
   "cell_type": "code",
   "execution_count": null,
   "id": "fa8196c0-11f5-417e-ab39-96a6eeda2b5d",
   "metadata": {},
   "outputs": [],
   "source": []
  }
 ],
 "metadata": {
  "kernelspec": {
   "display_name": "Python 3 (ipykernel)",
   "language": "python",
   "name": "python3"
  },
  "language_info": {
   "codemirror_mode": {
    "name": "ipython",
    "version": 3
   },
   "file_extension": ".py",
   "mimetype": "text/x-python",
   "name": "python",
   "nbconvert_exporter": "python",
   "pygments_lexer": "ipython3",
   "version": "3.10.11"
  }
 },
 "nbformat": 4,
 "nbformat_minor": 5
}
