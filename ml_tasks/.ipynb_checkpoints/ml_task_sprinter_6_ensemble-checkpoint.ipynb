{
 "cells": [
  {
   "cell_type": "code",
   "execution_count": 1,
   "id": "35754517-d3f0-41b3-b135-48af03356643",
   "metadata": {},
   "outputs": [],
   "source": [
    "import pandas as pd\n",
    "import numpy as np\n",
    "from sklearn.metrics import mean_squared_error\n",
    "from sklearn.linear_model import LinearRegression\n",
    "from sklearn.svm import SVR\n",
    "from sklearn.tree import DecisionTreeRegressor\n",
    "from sklearn.ensemble import RandomForestRegressor\n",
    "from sklearn.model_selection import train_test_split"
   ]
  },
  {
   "cell_type": "markdown",
   "id": "df2e46d7-fc48-4908-83f7-381a1716916b",
   "metadata": {},
   "source": [
    "# data"
   ]
  },
  {
   "cell_type": "code",
   "execution_count": 2,
   "id": "8a36c669-c53b-4015-bdc8-53beb7ecbf2e",
   "metadata": {},
   "outputs": [],
   "source": [
    "train_df = pd.read_csv('../data/house_price/train.csv')"
   ]
  },
  {
   "cell_type": "code",
   "execution_count": 3,
   "id": "d1ab357c-a80d-474f-9499-a8672b3efdd8",
   "metadata": {},
   "outputs": [],
   "source": [
    "input_cols = ['GrLivArea', 'YearBuilt']\n",
    "target = 'SalePrice'\n",
    "train_df[target] = np.log(train_df[target])"
   ]
  },
  {
   "cell_type": "code",
   "execution_count": 4,
   "id": "f6fa5a6e-18e0-4c31-9d8a-be5aa3b70c8f",
   "metadata": {},
   "outputs": [],
   "source": [
    "train_set, test_set = train_test_split(train_df, test_size=0.2,\n",
    "                                       shuffle=True, random_state=42)"
   ]
  },
  {
   "cell_type": "markdown",
   "id": "0c734b93-45d3-4f48-9bed-189e0b20a814",
   "metadata": {},
   "source": [
    "# model training"
   ]
  },
  {
   "cell_type": "code",
   "execution_count": 5,
   "id": "61b4f471-29e7-400f-b43b-9219887d1182",
   "metadata": {},
   "outputs": [],
   "source": [
    "metrics = {'linear_reg':[],\n",
    "           'svr':[],\n",
    "           'dt':[]}\n",
    "\n",
    "models = [LinearRegression(), DecisionTreeRegressor(), SVR()]\n",
    "\n",
    "model_names = ['linear_reg', 'svr', 'dt',]\n",
    "preds = {}\n",
    "oofs = []\n",
    "for name, model in zip(model_names, models):\n",
    "    reg = model.fit(train_set[input_cols], train_set[target])\n",
    "    oofs.append(reg.predict(train_set[input_cols]))\n",
    "    pred = reg.predict(test_set[input_cols])\n",
    "    score = mean_squared_error(test_set[target], pred)\n",
    "    metrics[name].append(score)\n",
    "    preds[name] = pred"
   ]
  },
  {
   "cell_type": "code",
   "execution_count": 6,
   "id": "680ebd30-0c4d-45ee-91d7-4475b84f3d1c",
   "metadata": {},
   "outputs": [
    {
     "name": "stdout",
     "output_type": "stream",
     "text": [
      "Model linear_reg: 0.052\n",
      "Model svr: 0.066\n",
      "Model dt: 0.054\n"
     ]
    }
   ],
   "source": [
    "#### result ####\n",
    "for name in metrics.keys():\n",
    "    print(f'Model {name}:', np.round(np.mean(metrics[name]), 3))\n"
   ]
  },
  {
   "cell_type": "markdown",
   "id": "8bf42dfa-ce39-4887-9bad-d751e1a71492",
   "metadata": {},
   "source": [
    "# Ensemble"
   ]
  },
  {
   "cell_type": "code",
   "execution_count": 7,
   "id": "6ab49c30-1f95-4ee4-a812-543d075cacc2",
   "metadata": {},
   "outputs": [
    {
     "name": "stdout",
     "output_type": "stream",
     "text": [
      "Blending: 0.048\n"
     ]
    }
   ],
   "source": [
    "### blending ####\n",
    "weights = [0.4, 0.2, 0.4]\n",
    "\n",
    "final_pred = None\n",
    "for i, name in enumerate(model_names):\n",
    "    if i==0:\n",
    "        final_pred = weights[i]*preds[name]\n",
    "    else:\n",
    "        final_pred = final_pred + weights[i]*preds[name]\n",
    "\n",
    "score = mean_squared_error(test_set[target], final_pred)\n",
    "print(f'Blending:', np.round(np.mean(score), 3))"
   ]
  },
  {
   "cell_type": "markdown",
   "id": "2deba505-0e39-4873-ace2-d36ad6cb16cc",
   "metadata": {},
   "source": [
    "# Stacked Ensemble"
   ]
  },
  {
   "cell_type": "code",
   "execution_count": 8,
   "id": "7463c62c-dde8-4608-9bae-e4bd74880cb7",
   "metadata": {},
   "outputs": [
    {
     "name": "stdout",
     "output_type": "stream",
     "text": [
      "Stacking: 0.066\n"
     ]
    }
   ],
   "source": [
    "### stacking ####\n",
    "stacking_model = LinearRegression()\n",
    "X_pred = np.asarray(oofs).T\n",
    "X_test_pred = np.zeros((test_set.shape[0], 3))\n",
    "for i, name in enumerate(model_names):\n",
    "    X_test_pred[:, i] = preds[name]\n",
    "\n",
    "reg = stacking_model.fit(X_pred, train_set[target])\n",
    "pred_stack = reg.predict(X_test_pred)\n",
    "\n",
    "score = mean_squared_error(test_set[target], pred_stack)\n",
    "print(f'Stacking:', np.round(np.mean(score), 3))"
   ]
  },
  {
   "cell_type": "code",
   "execution_count": 9,
   "id": "20efa3bf-6adc-4846-8737-76fe060981fb",
   "metadata": {},
   "outputs": [],
   "source": [
    "# ensemble \n",
    "#### bagging ###\n",
    "bagging = 5\n",
    "\n",
    "metrics = {'linear_reg': [],\n",
    "           'svr': [],\n",
    "           'dt': []}\n",
    "\n",
    "models = [LinearRegression(), DecisionTreeRegressor(),   SVR()]\n",
    "model_names = ['linear_reg', 'svr', 'dt', ]\n",
    "preds = {}\n",
    "\n",
    "for i in range(bagging):\n",
    "    frac = np.random.randint(80, 90)\n",
    "    train_ = train_set.sample(int(train_set.shape[0]*frac/100))\n",
    "    for name, model in zip(model_names, models):\n",
    "        reg = model.fit(train_[input_cols], train_[target])\n",
    "        pred = reg.predict(test_set[input_cols])\n",
    "        score = mean_squared_error(test_set[target], pred)\n",
    "        metrics[name].append(score)\n",
    "        if i==0:\n",
    "            preds[name] = pred/bagging\n",
    "        else:\n",
    "            preds[name] += pred / bagging"
   ]
  },
  {
   "cell_type": "code",
   "execution_count": 10,
   "id": "0f47ff8b-c38a-4019-a30e-8d323fedb6a1",
   "metadata": {},
   "outputs": [
    {
     "name": "stdout",
     "output_type": "stream",
     "text": [
      "Model linear_reg: 0.052\n",
      "Model svr: 0.069\n",
      "Model dt: 0.056\n",
      "Bagging and Blending: 0.048\n"
     ]
    }
   ],
   "source": [
    "#### result ####\n",
    "for name in metrics.keys():\n",
    "    print(f'Model {name}:', np.round(np.mean(metrics[name]), 3))\n",
    "\n",
    "weights = [0.4, 0.2, 0.4]\n",
    "\n",
    "final_pred = None\n",
    "for i, name in enumerate(model_names):\n",
    "    if i==0:\n",
    "        final_pred = weights[i]*preds[name]\n",
    "    else:\n",
    "        final_pred = final_pred + weights[i]*preds[name]\n",
    "\n",
    "score = mean_squared_error(test_set[target], final_pred)\n",
    "print(f'Bagging and Blending:', np.round(np.mean(score), 3))"
   ]
  },
  {
   "cell_type": "code",
   "execution_count": null,
   "id": "239d0dd4-11a8-459d-819e-3f6c9f68ebec",
   "metadata": {},
   "outputs": [],
   "source": []
  }
 ],
 "metadata": {
  "kernelspec": {
   "display_name": "Python 3 (ipykernel)",
   "language": "python",
   "name": "python3"
  },
  "language_info": {
   "codemirror_mode": {
    "name": "ipython",
    "version": 3
   },
   "file_extension": ".py",
   "mimetype": "text/x-python",
   "name": "python",
   "nbconvert_exporter": "python",
   "pygments_lexer": "ipython3",
   "version": "3.10.11"
  }
 },
 "nbformat": 4,
 "nbformat_minor": 5
}
